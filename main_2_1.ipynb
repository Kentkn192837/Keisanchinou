{
 "cells": [
  {
   "cell_type": "code",
   "execution_count": 1,
   "id": "fcd9d92b-b0ac-4a0c-8427-fdb106415312",
   "metadata": {},
   "outputs": [],
   "source": [
    "import numpy as np\n",
    "from matplotlib import pyplot as plt\n",
    "%matplotlib inline"
   ]
  },
  {
   "cell_type": "code",
   "execution_count": 2,
   "id": "fe26d48f-c2a2-450b-b63a-78d7e4b3d287",
   "metadata": {},
   "outputs": [],
   "source": [
    "# 入力を宣言\n",
    "x_1 = np.matrix([[1], [0]])\n",
    "x_2 = np.matrix([[0], [1]])\n",
    "x_3 = np.matrix([[1], [1]])\n",
    "X = [x_1, x_2, x_3]\n",
    "\n",
    "# 教師信号を宣言\n",
    "t_1 = 1\n",
    "t_2 = 0\n",
    "t_3 = 1\n",
    "T = [t_1, t_2, t_3]\n",
    "\n",
    "# 初期値\n",
    "w_1 = np.matrix([[0], [1]])\n",
    "W = [w_1]\n",
    "\n",
    "# パーセプトロンの出力の記録\n",
    "Z = []\n",
    "\n",
    "# 学習率α\n",
    "a = 1\n",
    "\n",
    "# 繰り返す回数\n",
    "REPEAT = 20"
   ]
  },
  {
   "cell_type": "code",
   "execution_count": 3,
   "id": "6f16f103-3f5d-4ab4-bd19-38dfde43808d",
   "metadata": {},
   "outputs": [
    {
     "name": "stdout",
     "output_type": "stream",
     "text": [
      "行列x_1の大きさ: (2, 1)\n",
      "行列x_1の行数: 2\n",
      "行列x_1の列数: 1\n"
     ]
    }
   ],
   "source": [
    "# 宣言した行列の大きさの確認\n",
    "print(\"行列x_1の大きさ:\", x_1.shape)\n",
    "print(\"行列x_1の行数:\", x_1.shape[0])\n",
    "print(\"行列x_1の列数:\", x_1.shape[1])"
   ]
  },
  {
   "cell_type": "code",
   "execution_count": 4,
   "id": "95b4eed0-99cd-41d4-8184-a9e484c3d285",
   "metadata": {},
   "outputs": [
    {
     "data": {
      "text/plain": [
       "0"
      ]
     },
     "execution_count": 4,
     "metadata": {},
     "output_type": "execute_result"
    }
   ],
   "source": [
    "# zの初期値\n",
    "z_1 = int(w_1.T * x_1)\n",
    "z_1"
   ]
  },
  {
   "cell_type": "code",
   "execution_count": 5,
   "id": "70e5151f-d873-48bb-9e0a-d480b09897db",
   "metadata": {},
   "outputs": [
    {
     "data": {
      "text/plain": [
       "(2, 1)"
      ]
     },
     "execution_count": 5,
     "metadata": {},
     "output_type": "execute_result"
    }
   ],
   "source": [
    "w_1.shape"
   ]
  },
  {
   "cell_type": "code",
   "execution_count": 6,
   "id": "fc6943ea-c506-4c80-b1d7-4021a2b7668c",
   "metadata": {},
   "outputs": [
    {
     "data": {
      "text/plain": [
       "(2, 1)"
      ]
     },
     "execution_count": 6,
     "metadata": {},
     "output_type": "execute_result"
    }
   ],
   "source": [
    "X[1].shape"
   ]
  },
  {
   "cell_type": "code",
   "execution_count": 7,
   "id": "fab56972-773d-4fb9-83a1-c9fcb7a3044d",
   "metadata": {},
   "outputs": [
    {
     "data": {
      "text/plain": [
       "matrix([[0],\n",
       "        [2]])"
      ]
     },
     "execution_count": 7,
     "metadata": {},
     "output_type": "execute_result"
    }
   ],
   "source": [
    "2 * X[1]"
   ]
  },
  {
   "cell_type": "code",
   "execution_count": 8,
   "id": "b259e4ee-9a4e-49c4-9ccc-4de55ad42f24",
   "metadata": {},
   "outputs": [
    {
     "data": {
      "text/plain": [
       "matrix([[0]])"
      ]
     },
     "execution_count": 8,
     "metadata": {},
     "output_type": "execute_result"
    }
   ],
   "source": [
    "X[0][1]"
   ]
  },
  {
   "cell_type": "code",
   "execution_count": 9,
   "id": "046ac908-ec04-4f9e-ba2c-1e2f6ef84bfe",
   "metadata": {},
   "outputs": [
    {
     "data": {
      "text/plain": [
       "2"
      ]
     },
     "execution_count": 9,
     "metadata": {},
     "output_type": "execute_result"
    }
   ],
   "source": [
    "len(X[1])"
   ]
  },
  {
   "cell_type": "code",
   "execution_count": 10,
   "id": "15f70883-536c-49d0-ac79-596bc58cdf46",
   "metadata": {},
   "outputs": [],
   "source": [
    "for i in range(REPEAT):\n",
    "    if i == 0:\n",
    "        w = w_1\n",
    "    if int(w.T * X[i % len(X)]) > 0:\n",
    "        z = 1\n",
    "    else:\n",
    "        z = 0\n",
    "    Z.append(z)\n",
    "    w = w - a * (z - T[i % len(X)]) * X[i % len(X)]\n",
    "    W.append(w)"
   ]
  },
  {
   "cell_type": "code",
   "execution_count": 11,
   "id": "fb142700-b65c-4e46-a228-465381f77e67",
   "metadata": {},
   "outputs": [
    {
     "name": "stdout",
     "output_type": "stream",
     "text": [
      "[[0]\n",
      " [1]]\n",
      "[[1]\n",
      " [1]]\n",
      "[[1]\n",
      " [0]]\n",
      "[[1]\n",
      " [0]]\n",
      "[[1]\n",
      " [0]]\n",
      "[[1]\n",
      " [0]]\n",
      "[[1]\n",
      " [0]]\n",
      "[[1]\n",
      " [0]]\n",
      "[[1]\n",
      " [0]]\n",
      "[[1]\n",
      " [0]]\n",
      "[[1]\n",
      " [0]]\n",
      "[[1]\n",
      " [0]]\n",
      "[[1]\n",
      " [0]]\n",
      "[[1]\n",
      " [0]]\n",
      "[[1]\n",
      " [0]]\n",
      "[[1]\n",
      " [0]]\n",
      "[[1]\n",
      " [0]]\n",
      "[[1]\n",
      " [0]]\n",
      "[[1]\n",
      " [0]]\n",
      "[[1]\n",
      " [0]]\n",
      "[[1]\n",
      " [0]]\n"
     ]
    }
   ],
   "source": [
    "for i in W:\n",
    "    print(i)"
   ]
  },
  {
   "cell_type": "code",
   "execution_count": 12,
   "id": "7db2f578-2570-4512-9a79-f613a6a78e0f",
   "metadata": {},
   "outputs": [
    {
     "data": {
      "text/plain": [
       "<Figure size 432x288 with 0 Axes>"
      ]
     },
     "metadata": {},
     "output_type": "display_data"
    },
    {
     "data": {
      "image/png": "[encoded data removed]",
      "text/plain": [
       "<Figure size 432x288 with 1 Axes>"
      ]
     },
     "metadata": {
      "needs_background": "light"
     },
     "output_type": "display_data"
    }
   ],
   "source": [
    "fig = plt.figure(figsize=(6, 4))\n",
    "fig, ax = plt.subplots()\n",
    "\n",
    "# 格子点を表示\n",
    "ax.grid()\n",
    "\n",
    "# 軸ラベルの設定\n",
    "ax.set_xlabel(\"x\", fontsize = 16)\n",
    "ax.set_ylabel(\"y\", fontsize = 16)\n",
    "\n",
    "# 軸範囲の設定\n",
    "ax.set_xlim(-0.5, 3)\n",
    "ax.set_ylim(-0.5, 3)\n",
    "\n",
    "ax.set_xticks(np.arange(0, 3, 1))\n",
    "ax.set_yticks(np.arange(0, 3, 1))\n",
    "\n",
    "for border in ['left', 'top', 'right', 'bottom']:\n",
    "    ax.spines[border].set_visible(False)\n",
    "\n",
    "plt.hlines(0, -10, 10, color='black')\n",
    "plt.vlines(0, -10, 10, color='black')\n",
    "\n",
    "for i in range(len(W)):\n",
    "    if i == 0:\n",
    "        ax.scatter(int(W[i][0]), int(W[i][1]))\n",
    "        x = int(W[i][0])\n",
    "        y = int(W[i][1])\n",
    "    else:\n",
    "        ax.quiver(x, y, int(W[i][0]) - x, int(W[i][1]) - y,\n",
    "                 angles = 'xy', scale_units = 'xy', scale = 1)\n",
    "        ax.scatter(int(W[i][0]), int(W[i][1]))\n",
    "        x = int(W[i][0])\n",
    "        y = int(W[i][1])\n",
    "\n",
    "# ax.quiver(1, 1, -1, 0, angles = 'xy', scale_units = 'xy', scale = 1)\n",
    "ax.set_aspect('equal')\n",
    "# ax.text(int(X[0][0]), int(X[0][1]), )\n",
    "\n",
    "plt.show()"
   ]
  },
  {
   "cell_type": "code",
   "execution_count": 13,
   "id": "6addbcd3-9889-40b8-88f6-7df968e01e5a",
   "metadata": {},
   "outputs": [
    {
     "name": "stdout",
     "output_type": "stream",
     "text": [
      "0\n",
      "1\n",
      "1\n",
      "1\n",
      "0\n",
      "1\n",
      "1\n",
      "0\n",
      "1\n",
      "1\n",
      "0\n",
      "1\n",
      "1\n",
      "0\n",
      "1\n",
      "1\n",
      "0\n",
      "1\n",
      "1\n",
      "0\n"
     ]
    }
   ],
   "source": [
    "for i in Z:\n",
    "    print(i)"
   ]
  },
  {
   "cell_type": "code",
   "execution_count": 17,
   "id": "43ee1f88-930f-41ac-8a6e-b1b799162349",
   "metadata": {},
   "outputs": [
    {
     "data": {
      "text/plain": [
       "range(0, 20)"
      ]
     },
     "execution_count": 17,
     "metadata": {},
     "output_type": "execute_result"
    }
   ],
   "source": [
    "range(len(Z))"
   ]
  },
  {
   "cell_type": "code",
   "execution_count": 21,
   "id": "f7043448-3882-4419-9e30-d82c4e736ebb",
   "metadata": {},
   "outputs": [
    {
     "data": {
      "text/plain": [
       "[1, 2, 3, 4, 5, 6, 7, 8, 9, 10, 11, 12, 13, 14, 15, 16, 17, 18, 19, 20]"
      ]
     },
     "execution_count": 21,
     "metadata": {},
     "output_type": "execute_result"
    }
   ],
   "source": [
    "x_range = []\n",
    "for i in range(len(Z)):\n",
    "    x_range.append(i + 1)\n",
    "x_range"
   ]
  },
  {
   "cell_type": "code",
   "execution_count": 25,
   "id": "c2f8d115-1810-4e32-94c5-9ef170881b90",
   "metadata": {},
   "outputs": [
    {
     "data": {
      "image/png": "[encoded data removed]",
      "text/plain": [
       "<Figure size 432x288 with 1 Axes>"
      ]
     },
     "metadata": {
      "needs_background": "light"
     },
     "output_type": "display_data"
    }
   ],
   "source": [
    "plt.xticks(np.arange(0, len(Z) + 1, 1))\n",
    "plt.yticks(np.arange(0, 2, 1))\n",
    "plt.plot(x_range, Z)\n",
    "plt.show()"
   ]
  },
  {
   "cell_type": "code",
   "execution_count": 28,
   "id": "c1836ddd-3e2d-4650-905e-33765806d00b",
   "metadata": {},
   "outputs": [
    {
     "name": "stdout",
     "output_type": "stream",
     "text": [
      "[1, 2, 3, 4, 5, 6, 7, 8, 9, 10, 11, 12, 13, 14, 15, 16, 17, 18, 19, 20]\n",
      "[-1, 1, 0, 0, 0, 0, 0, 0, 0, 0, 0, 0, 0, 0, 0, 0, 0, 0, 0, 0]\n"
     ]
    }
   ],
   "source": [
    "x_count = []\n",
    "loss = []\n",
    "for i in range(len(Z)):\n",
    "    x_count.append(i + 1)\n",
    "    loss.append( Z[i] - T[i % len(T)] )\n",
    "print(x_count)\n",
    "print(loss)"
   ]
  },
  {
   "cell_type": "code",
   "execution_count": 34,
   "id": "69c4b531-9ef8-443a-af29-e6d2b2330ee2",
   "metadata": {},
   "outputs": [
    {
     "data": {
      "image/png": "[encoded data removed]",
      "text/plain": [
       "<Figure size 432x288 with 1 Axes>"
      ]
     },
     "metadata": {
      "needs_background": "light"
     },
     "output_type": "display_data"
    }
   ],
   "source": [
    "plt.xticks(np.arange(0, len(x_count) + 1, 1))\n",
    "plt.yticks(np.arange(-1, 1.2, 1))\n",
    "plt.xlabel(\"The number of $i$\")\n",
    "plt.ylabel(\"Value\")\n",
    "plt.plot(x_count, loss, marker='.')\n",
    "plt.show()"
   ]
  }
 ],
 "metadata": {
  "kernelspec": {
   "display_name": "Python 3",
   "language": "python",
   "name": "python3"
  },
  "language_info": {
   "codemirror_mode": {
    "name": "ipython",
    "version": 3
   },
   "file_extension": ".py",
   "mimetype": "text/x-python",
   "name": "python",
   "nbconvert_exporter": "python",
   "pygments_lexer": "ipython3",
   "version": "3.8.5"
  }
 },
 "nbformat": 4,
 "nbformat_minor": 5
}
