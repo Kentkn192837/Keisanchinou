{
 "cells": [
  {
   "cell_type": "code",
   "execution_count": 1,
   "id": "14b3c201-4a9c-433c-84b0-9693d310a7ab",
   "metadata": {},
   "outputs": [],
   "source": [
    "import numpy as np\n",
    "from matplotlib import pyplot as plt\n",
    "%matplotlib inline"
   ]
  },
  {
   "cell_type": "code",
   "execution_count": 2,
   "id": "3187aa16-93d4-45a2-932c-09013099f813",
   "metadata": {},
   "outputs": [],
   "source": [
    "# 各入力ベクトルを宣言\n",
    "x_1 = np.matrix([[0], [0]])\n",
    "x_2 = np.matrix([[0], [1]])\n",
    "x_3 = np.matrix([[1], [0]])\n",
    "x_4 = np.matrix([[1], [1]])\n",
    "X = [x_1, x_2, x_3, x_4]\n",
    "\n",
    "# パラメータの宣言\n",
    "t_1 = 0\n",
    "t_2 = 1\n",
    "t_3 = 1\n",
    "t_4 = 0\n",
    "T = [t_1, t_2, t_3, t_4]\n",
    "\n",
    "# 感覚層と連合層の結合重みの初期値\n",
    "w_init = np.matrix([[1, -1], [-1, 1], [-1, -1], [1, 1]])\n",
    "Weight_sen_uni = [w_init]\n",
    "\n",
    "# 連合層と反応層の結合重み\n",
    "Weight_uni_rea = [np.matrix([[0], [0], [0], [0]])]\n",
    "\n",
    "# 連合層の出力\n",
    "Y = []\n",
    "\n",
    "# 反応層の出力記録\n",
    "Z = []\n",
    "\n",
    "# 学習率\n",
    "a = 1\n",
    "\n",
    "# 繰り返し処理を行う回数\n",
    "REPEAT = 40"
   ]
  },
  {
   "cell_type": "code",
   "execution_count": 3,
   "id": "95332123-57d2-4197-a582-654b25436d9b",
   "metadata": {},
   "outputs": [
    {
     "data": {
      "text/plain": [
       "(4, 1)"
      ]
     },
     "execution_count": 3,
     "metadata": {},
     "output_type": "execute_result"
    }
   ],
   "source": [
    "Weight_uni_rea[0].shape"
   ]
  },
  {
   "cell_type": "code",
   "execution_count": 4,
   "id": "b40d8a21-abee-4e5e-8758-b0539d8fe80a",
   "metadata": {},
   "outputs": [
    {
     "data": {
      "text/plain": [
       "(4, 2)"
      ]
     },
     "execution_count": 4,
     "metadata": {},
     "output_type": "execute_result"
    }
   ],
   "source": [
    "Weight_sen_uni[0].shape"
   ]
  },
  {
   "cell_type": "code",
   "execution_count": 5,
   "id": "f0ae89ad-d18b-4301-9d3e-b700992a45c5",
   "metadata": {},
   "outputs": [
    {
     "data": {
      "text/plain": [
       "(2, 1)"
      ]
     },
     "execution_count": 5,
     "metadata": {},
     "output_type": "execute_result"
    }
   ],
   "source": [
    "X[0].shape"
   ]
  },
  {
   "cell_type": "code",
   "execution_count": 6,
   "id": "ad9fc3b4-e97c-4ec3-bc7a-4e99a6d2a455",
   "metadata": {},
   "outputs": [
    {
     "name": "stdout",
     "output_type": "stream",
     "text": [
      "[[0]\n",
      " [0]\n",
      " [0]\n",
      " [0]]\n",
      "[[-1]\n",
      " [ 1]\n",
      " [-1]\n",
      " [ 1]]\n",
      "[[ 1]\n",
      " [-1]\n",
      " [-1]\n",
      " [ 1]]\n",
      "[[ 0]\n",
      " [ 0]\n",
      " [-2]\n",
      " [ 2]]\n"
     ]
    }
   ],
   "source": [
    "Wk = []\n",
    "\n",
    "for i in X:\n",
    "    wk = Weight_sen_uni[0] * i\n",
    "    Wk.append(wk)\n",
    "\n",
    "for i in Wk:\n",
    "    print(i)"
   ]
  },
  {
   "cell_type": "code",
   "execution_count": 7,
   "id": "bc736993-1a6e-4ced-b391-d7015ecdad95",
   "metadata": {},
   "outputs": [
    {
     "data": {
      "text/plain": [
       "(4, 1)"
      ]
     },
     "execution_count": 7,
     "metadata": {},
     "output_type": "execute_result"
    }
   ],
   "source": [
    "Wk[0].shape"
   ]
  },
  {
   "cell_type": "code",
   "execution_count": 8,
   "id": "0dde460d-4cae-4dca-9aad-58d873bce9d6",
   "metadata": {},
   "outputs": [
    {
     "data": {
      "text/plain": [
       "numpy.matrix"
      ]
     },
     "execution_count": 8,
     "metadata": {},
     "output_type": "execute_result"
    }
   ],
   "source": [
    "type(Wk[1][0])"
   ]
  },
  {
   "cell_type": "code",
   "execution_count": 9,
   "id": "3b217e43-7066-44e9-bb84-01abc2deefec",
   "metadata": {},
   "outputs": [
    {
     "data": {
      "text/plain": [
       "False"
      ]
     },
     "execution_count": 9,
     "metadata": {},
     "output_type": "execute_result"
    }
   ],
   "source": [
    "bool(Wk[0][0] < 0)"
   ]
  },
  {
   "cell_type": "code",
   "execution_count": 10,
   "id": "eb3e5434-72f4-4ca8-a2bd-5a7a35126f53",
   "metadata": {},
   "outputs": [],
   "source": [
    "# 連合層の出力\n",
    "for i in range(REPEAT):\n",
    "    for j in range(len(Wk[i % len(Wk)])):\n",
    "        if Wk[i % len(Wk)][j] > 0:\n",
    "            Wk[i % len(Wk)][j] = 1\n",
    "        else:\n",
    "            Wk[i % len(Wk)][j] = 0\n",
    "    Y.append(Wk[i % len(Wk)])"
   ]
  },
  {
   "cell_type": "code",
   "execution_count": 11,
   "id": "fff61940-4b26-434c-857f-8698856f3984",
   "metadata": {},
   "outputs": [],
   "source": [
    "# 連合層と反応層の結合重みを更新\n",
    "for i in range(len(Y)):\n",
    "    if Weight_uni_rea[i].T * Y[i] > 0:\n",
    "        Z.append(1)\n",
    "    else:\n",
    "        Z.append(0)\n",
    "    w = Weight_uni_rea[i] - a * (Z[i] - T[i % len(T)]) * Y[i]\n",
    "    Weight_uni_rea.append(w)"
   ]
  },
  {
   "cell_type": "code",
   "execution_count": 46,
   "id": "950f3861-32bc-42f3-83de-040da01382ae",
   "metadata": {},
   "outputs": [
    {
     "data": {
      "text/plain": [
       "matrix([[1]])"
      ]
     },
     "execution_count": 46,
     "metadata": {},
     "output_type": "execute_result"
    }
   ],
   "source": [
    "Weight_uni_rea[40][0]"
   ]
  },
  {
   "cell_type": "code",
   "execution_count": 13,
   "id": "f2d6139e-8a29-4b5a-9863-0c2171306b14",
   "metadata": {},
   "outputs": [
    {
     "data": {
      "text/plain": [
       "[0.0,\n",
       " 0.0,\n",
       " 1.4142135623730951,\n",
       " 1.4142135623730951,\n",
       " 1.0,\n",
       " 1.0,\n",
       " 1.0,\n",
       " 1.7320508075688772,\n",
       " 1.4142135623730951,\n",
       " 1.4142135623730951,\n",
       " 1.4142135623730951,\n",
       " 1.4142135623730951,\n",
       " 1.4142135623730951,\n",
       " 1.4142135623730951,\n",
       " 1.4142135623730951,\n",
       " 1.4142135623730951,\n",
       " 1.4142135623730951,\n",
       " 1.4142135623730951,\n",
       " 1.4142135623730951,\n",
       " 1.4142135623730951,\n",
       " 1.4142135623730951,\n",
       " 1.4142135623730951,\n",
       " 1.4142135623730951,\n",
       " 1.4142135623730951,\n",
       " 1.4142135623730951,\n",
       " 1.4142135623730951,\n",
       " 1.4142135623730951,\n",
       " 1.4142135623730951,\n",
       " 1.4142135623730951,\n",
       " 1.4142135623730951,\n",
       " 1.4142135623730951,\n",
       " 1.4142135623730951,\n",
       " 1.4142135623730951,\n",
       " 1.4142135623730951,\n",
       " 1.4142135623730951,\n",
       " 1.4142135623730951,\n",
       " 1.4142135623730951,\n",
       " 1.4142135623730951,\n",
       " 1.4142135623730951,\n",
       " 1.4142135623730951,\n",
       " 1.4142135623730951]"
      ]
     },
     "execution_count": 13,
     "metadata": {},
     "output_type": "execute_result"
    }
   ],
   "source": [
    "Weight_uni_rea_norm = []\n",
    "for i in Weight_uni_rea:\n",
    "    Weight_uni_rea_norm.append(np.linalg.norm(i))\n",
    "Weight_uni_rea_norm"
   ]
  },
  {
   "cell_type": "code",
   "execution_count": 14,
   "id": "1b46a363-a53c-491e-99e7-305a8568990a",
   "metadata": {},
   "outputs": [
    {
     "data": {
      "text/plain": [
       "[0,\n",
       " 0,\n",
       " 1,\n",
       " 1,\n",
       " 0,\n",
       " 1,\n",
       " 0,\n",
       " 1,\n",
       " 0,\n",
       " 1,\n",
       " 1,\n",
       " 0,\n",
       " 0,\n",
       " 1,\n",
       " 1,\n",
       " 0,\n",
       " 0,\n",
       " 1,\n",
       " 1,\n",
       " 0,\n",
       " 0,\n",
       " 1,\n",
       " 1,\n",
       " 0,\n",
       " 0,\n",
       " 1,\n",
       " 1,\n",
       " 0,\n",
       " 0,\n",
       " 1,\n",
       " 1,\n",
       " 0,\n",
       " 0,\n",
       " 1,\n",
       " 1,\n",
       " 0,\n",
       " 0,\n",
       " 1,\n",
       " 1,\n",
       " 0]"
      ]
     },
     "execution_count": 14,
     "metadata": {},
     "output_type": "execute_result"
    }
   ],
   "source": [
    "Z"
   ]
  },
  {
   "cell_type": "code",
   "execution_count": 41,
   "id": "f9440eef-da18-4ce1-9e04-319d2edd1061",
   "metadata": {},
   "outputs": [
    {
     "name": "stdout",
     "output_type": "stream",
     "text": [
      "[1, 2, 3, 4, 5, 6, 7, 8, 9, 10, 11, 12, 13, 14, 15, 16, 17, 18, 19, 20, 21, 22, 23, 24, 25, 26, 27, 28, 29, 30, 31, 32, 33, 34, 35, 36, 37, 38, 39, 40]\n"
     ]
    },
    {
     "data": {
      "image/png": "[encoded data removed]",
      "text/plain": [
       "<Figure size 432x288 with 1 Axes>"
      ]
     },
     "metadata": {
      "needs_background": "light"
     },
     "output_type": "display_data"
    }
   ],
   "source": [
    "# 反応層の出力結果\n",
    "x_count = []\n",
    "for i in range(len(Z)):\n",
    "    x_count.append(i + 1)\n",
    "print(x_count)\n",
    "plt.plot(x_count, Z, marker='.')\n",
    "plt.xticks(np.arange(1, len(x_count) + 1, 2))\n",
    "plt.yticks(np.arange(0, 1.2, 1))\n",
    "plt.xlim(0,31)\n",
    "plt.xlabel(\"The number of $i$\", size=14)\n",
    "plt.ylabel(\"Value of $z_{i}$\", size=14)\n",
    "plt.show()"
   ]
  },
  {
   "cell_type": "code",
   "execution_count": 54,
   "id": "566dd113-2e28-4ae8-a4a9-7ec852cb0069",
   "metadata": {},
   "outputs": [
    {
     "name": "stdout",
     "output_type": "stream",
     "text": [
      "41\n",
      "41\n"
     ]
    }
   ],
   "source": [
    "w1 = []\n",
    "w2 = []\n",
    "w3 = []\n",
    "w4 = []\n",
    "x_count = []\n",
    "\n",
    "for i in range(len(Weight_uni_rea)):\n",
    "    w1.append(int(Weight_uni_rea[i][0]))\n",
    "    w2.append(int(Weight_uni_rea[i][1]))\n",
    "    w3.append(int(Weight_uni_rea[i][2]))\n",
    "    w4.append(int(Weight_uni_rea[i][3]))\n",
    "    x_count.append(i)\n",
    "print(len(w1))\n",
    "print(len(x_count))"
   ]
  },
  {
   "cell_type": "code",
   "execution_count": 71,
   "id": "f6a107e7-efb1-4ba1-9081-4a92904689aa",
   "metadata": {},
   "outputs": [
    {
     "data": {
      "image/png": "[encoded data removed]",
      "text/plain": [
       "<Figure size 432x288 with 1 Axes>"
      ]
     },
     "metadata": {
      "needs_background": "light"
     },
     "output_type": "display_data"
    }
   ],
   "source": [
    "# 重みベクトルの推移\n",
    "plt.plot(x_count, w1, linewidth=1, color='r', label='$w_{1}$', marker='.')\n",
    "plt.plot(x_count, w2, linewidth=1, color='g', label='$w_{2}$', marker='.', alpha=0.9)\n",
    "plt.plot(x_count, w3, linewidth=1, color='b', label='$w_{3}$', marker='.', alpha=0.6)\n",
    "plt.plot(x_count, w4, linewidth=1, color='c', label='$w_{4}$', marker='.', alpha=0.6)\n",
    "plt.legend(bbox_to_anchor=(1.05, 1), loc='upper left', borderaxespad=0, fontsize=14)\n",
    "plt.xticks(np.arange(0, len(x_count) + 1, 2))\n",
    "plt.yticks(np.arange(0, 2, 1))\n",
    "plt.ylabel(\"Value\")\n",
    "plt.xlim(-1, 31)\n",
    "plt.show()"
   ]
  }
 ],
 "metadata": {
  "kernelspec": {
   "display_name": "Python 3",
   "language": "python",
   "name": "python3"
  },
  "language_info": {
   "codemirror_mode": {
    "name": "ipython",
    "version": 3
   },
   "file_extension": ".py",
   "mimetype": "text/x-python",
   "name": "python",
   "nbconvert_exporter": "python",
   "pygments_lexer": "ipython3",
   "version": "3.8.5"
  }
 },
 "nbformat": 4,
 "nbformat_minor": 5
}
